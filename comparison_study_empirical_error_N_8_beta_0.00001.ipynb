{
 "cells": [
  {
   "cell_type": "code",
   "execution_count": 1,
   "metadata": {
    "collapsed": true
   },
   "outputs": [],
   "source": [
    "%matplotlib inline"
   ]
  },
  {
   "cell_type": "code",
   "execution_count": 2,
   "metadata": {
    "collapsed": false
   },
   "outputs": [
    {
     "name": "stdout",
     "output_type": "stream",
     "text": [
      "usage: tahtma [-h] [-e E] [-beta BETA] [-N N] [-k K] [-fig_dir FIG_DIR]\n",
      "              [-show_pic]\n",
      "\n",
      "optional arguments:\n",
      "  -h, --help        show this help message and exit\n",
      "  -e E              experiment type; indicated by 'eta' (threshold calculation\n",
      "                    and visualization) or 'cdf' (empirical CDF calculation and\n",
      "                    visualization); default='eta'\n",
      "  -beta BETA        false alarm rate for Hoeffding's rule; default=0.001\n",
      "  -N N              number of states in the original Markov chain; default=4\n",
      "  -k K              index of simulations; default=1\n",
      "  -fig_dir FIG_DIR  folder for saving the output plot; default='./Results/'\n",
      "  -show_pic         whether or not to show the output plot; default=False\n"
     ]
    }
   ],
   "source": [
    "%run ./tahtma -h"
   ]
  },
  {
   "cell_type": "code",
   "execution_count": null,
   "metadata": {
    "collapsed": false
   },
   "outputs": [],
   "source": [
    "%run ./tahtma -e 'eta' -N 8 -show_pic -fig_dir '/home/jzh/Dropbox/tsp_rev_refs/figs/' -beta 0.00001 -k 1 \n",
    "%run ./tahtma -e 'eta' -N 8 -show_pic -fig_dir '/home/jzh/Dropbox/tsp_rev_refs/figs/' -beta 0.00001 -k 2 \n",
    "%run ./tahtma -e 'eta' -N 8 -show_pic -fig_dir '/home/jzh/Dropbox/tsp_rev_refs/figs/' -beta 0.00001 -k 3 \n",
    "%run ./tahtma -e 'eta' -N 8 -show_pic -fig_dir '/home/jzh/Dropbox/tsp_rev_refs/figs/' -beta 0.00001 -k 4 \n",
    "%run ./tahtma -e 'eta' -N 8 -show_pic -fig_dir '/home/jzh/Dropbox/tsp_rev_refs/figs/' -beta 0.00001 -k 5 \n",
    "%run ./tahtma -e 'eta' -N 8 -show_pic -fig_dir '/home/jzh/Dropbox/tsp_rev_refs/figs/' -beta 0.00001 -k 6 \n",
    "%run ./tahtma -e 'eta' -N 8 -show_pic -fig_dir '/home/jzh/Dropbox/tsp_rev_refs/figs/' -beta 0.00001 -k 7 \n",
    "%run ./tahtma -e 'eta' -N 8 -show_pic -fig_dir '/home/jzh/Dropbox/tsp_rev_refs/figs/' -beta 0.00001 -k 8 \n",
    "%run ./tahtma -e 'eta' -N 8 -show_pic -fig_dir '/home/jzh/Dropbox/tsp_rev_refs/figs/' -beta 0.00001 -k 9 \n",
    "%run ./tahtma -e 'eta' -N 8 -show_pic -fig_dir '/home/jzh/Dropbox/tsp_rev_refs/figs/' -beta 0.00001 -k 10 \n",
    "%run ./tahtma -e 'eta' -N 8 -show_pic -fig_dir '/home/jzh/Dropbox/tsp_rev_refs/figs/' -beta 0.00001 -k 11 \n",
    "%run ./tahtma -e 'eta' -N 8 -show_pic -fig_dir '/home/jzh/Dropbox/tsp_rev_refs/figs/' -beta 0.00001 -k 12 \n",
    "%run ./tahtma -e 'eta' -N 8 -show_pic -fig_dir '/home/jzh/Dropbox/tsp_rev_refs/figs/' -beta 0.00001 -k 13 \n",
    "%run ./tahtma -e 'eta' -N 8 -show_pic -fig_dir '/home/jzh/Dropbox/tsp_rev_refs/figs/' -beta 0.00001 -k 14 \n",
    "%run ./tahtma -e 'eta' -N 8 -show_pic -fig_dir '/home/jzh/Dropbox/tsp_rev_refs/figs/' -beta 0.00001 -k 15 \n",
    "%run ./tahtma -e 'eta' -N 8 -show_pic -fig_dir '/home/jzh/Dropbox/tsp_rev_refs/figs/' -beta 0.00001 -k 16 \n",
    "%run ./tahtma -e 'eta' -N 8 -show_pic -fig_dir '/home/jzh/Dropbox/tsp_rev_refs/figs/' -beta 0.00001 -k 17 \n",
    "%run ./tahtma -e 'eta' -N 8 -show_pic -fig_dir '/home/jzh/Dropbox/tsp_rev_refs/figs/' -beta 0.00001 -k 18 \n",
    "%run ./tahtma -e 'eta' -N 8 -show_pic -fig_dir '/home/jzh/Dropbox/tsp_rev_refs/figs/' -beta 0.00001 -k 19 \n",
    "%run ./tahtma -e 'eta' -N 8 -show_pic -fig_dir '/home/jzh/Dropbox/tsp_rev_refs/figs/' -beta 0.00001 -k 20 "
   ]
  }
 ],
 "metadata": {
  "anaconda-cloud": {},
  "kernelspec": {
   "display_name": "Python 2",
   "language": "python",
   "name": "python2"
  },
  "language_info": {
   "codemirror_mode": {
    "name": "ipython",
    "version": 2
   },
   "file_extension": ".py",
   "mimetype": "text/x-python",
   "name": "python",
   "nbconvert_exporter": "python",
   "pygments_lexer": "ipython2",
   "version": "2.7.12"
  }
 },
 "nbformat": 4,
 "nbformat_minor": 0
}
