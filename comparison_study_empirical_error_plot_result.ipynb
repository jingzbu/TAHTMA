{
 "cells": [
  {
   "cell_type": "code",
   "execution_count": 1,
   "metadata": {
    "collapsed": true
   },
   "outputs": [],
   "source": [
    "import numpy as np\n",
    "import json"
   ]
  },
  {
   "cell_type": "code",
   "execution_count": 2,
   "metadata": {
    "collapsed": true
   },
   "outputs": [],
   "source": [
    "dir_1 = '/home/jzh/Dropbox/tsp_rev_refs/figs/'"
   ]
  },
  {
   "cell_type": "code",
   "execution_count": 3,
   "metadata": {
    "collapsed": false
   },
   "outputs": [],
   "source": [
    "N_list = [2, 3, 4, 5, 6, 7, 8]\n",
    "beta_list = [0.1, 0.01, 0.001, 0.0001, 0.00001]\n",
    "k_list = range(21)[1:]\n",
    "\n",
    "save_data_dict = {}\n",
    "\n",
    "for N in N_list:\n",
    "    for beta in beta_list:\n",
    "        for k in k_list:\n",
    "            with open(dir_1 + 'eta_KL_mb_N_%s_beta_%s_k_%s.json'%(N, beta, k), 'r') as json_file:\n",
    "                save_data_dict[(N, beta, k)] = json.load(json_file)"
   ]
  },
  {
   "cell_type": "code",
   "execution_count": 4,
   "metadata": {
    "collapsed": false
   },
   "outputs": [],
   "source": [
    "err_sv_dict = {}\n",
    "err_wc_1_dict = {}\n",
    "err_wc_2_dict = {}\n",
    "\n",
    "for N in N_list:\n",
    "    err_sv_dict[N] = {}\n",
    "    err_wc_1_dict[N] = {}\n",
    "    err_wc_2_dict[N] = {}\n",
    "    for beta in beta_list:\n",
    "        for k in k_list:\n",
    "            len_eta_lis = len(save_data_dict[(N, beta, k)]['eta_Sanov'])\n",
    "            err_sv_dict[N][(beta, k)] = np.mean([(save_data_dict[(N, beta, k)]['eta_Sanov'][idx] - \\\n",
    "                                                  save_data_dict[(N, beta, k)]['eta_actual'][idx]) ** 2 \\\n",
    "                                                 for idx in xrange(len_eta_lis)])\n",
    "            err_wc_1_dict[N][(beta, k)] = np.mean([(save_data_dict[(N, beta, k)]['eta_wc_1'][idx] - \\\n",
    "                                                    save_data_dict[(N, beta, k)]['eta_actual'][idx]) ** 2 \\\n",
    "                                                   for idx in xrange(len_eta_lis)])\n",
    "            err_wc_2_dict[N][(beta, k)] = np.mean([(save_data_dict[(N, beta, k)]['eta_wc_2'][idx] - \\\n",
    "                                                    save_data_dict[(N, beta, k)]['eta_actual'][idx]) ** 2 \\\n",
    "                                                   for idx in xrange(len_eta_lis)])"
   ]
  },
  {
   "cell_type": "code",
   "execution_count": 5,
   "metadata": {
    "collapsed": false
   },
   "outputs": [],
   "source": [
    "err_sv_avg_dict = {}\n",
    "err_wc_1_avg_dict = {}\n",
    "err_wc_2_avg_dict = {}\n",
    "    \n",
    "for N in N_list:\n",
    "    err_sv_avg_dict[N] = np.mean(err_sv_dict[N].values())\n",
    "    err_wc_1_avg_dict[N] = np.mean(err_wc_1_dict[N].values())\n",
    "    err_wc_2_avg_dict[N] = np.mean(err_wc_2_dict[N].values())"
   ]
  },
  {
   "cell_type": "code",
   "execution_count": 6,
   "metadata": {
    "collapsed": false
   },
   "outputs": [
    {
     "data": {
      "text/plain": [
       "({2: 0.039354547406765,\n",
       "  3: 0.016707732960784833,\n",
       "  4: 0.022453230366105158,\n",
       "  5: 0.027953204345236338,\n",
       "  6: 0.030444132510540459,\n",
       "  7: 0.03015216123313464,\n",
       "  8: 0.030155225716309787},\n",
       " {2: 0.025659144542297108,\n",
       "  3: 0.0050426450265735256,\n",
       "  4: 0.0012070440261558798,\n",
       "  5: 0.00094804118963911208,\n",
       "  6: 0.00044446181024135686,\n",
       "  7: 0.00029656417276088392,\n",
       "  8: 0.0002374154935181876},\n",
       " {2: 0.17208986330651022,\n",
       "  3: 0.01761527093640719,\n",
       "  4: 0.017423677079545442,\n",
       "  5: 0.0019578629207516415,\n",
       "  6: 0.00094609176667954345,\n",
       "  7: 0.00066981245520556453,\n",
       "  8: 0.00027147167455379722})"
      ]
     },
     "execution_count": 6,
     "metadata": {},
     "output_type": "execute_result"
    }
   ],
   "source": [
    "err_sv_avg_dict, err_wc_1_avg_dict, err_wc_2_avg_dict"
   ]
  },
  {
   "cell_type": "code",
   "execution_count": 7,
   "metadata": {
    "collapsed": true
   },
   "outputs": [],
   "source": [
    "%matplotlib inline"
   ]
  },
  {
   "cell_type": "code",
   "execution_count": 8,
   "metadata": {
    "collapsed": false
   },
   "outputs": [
    {
     "name": "stderr",
     "output_type": "stream",
     "text": [
      "/home/jzh/anaconda2/lib/python2.7/site-packages/matplotlib/font_manager.py:1288: UserWarning: findfont: Font family [u'normal'] not found. Falling back to Bitstream Vera Sans\n",
      "  (prop.get_family(), self.defaultFamily[fontext]))\n"
     ]
    },
    {
     "data": {
      "image/png": "[encoded data removed]",
      "text/plain": [
       "<matplotlib.figure.Figure at 0x7f18ea8c37d0>"
      ]
     },
     "metadata": {},
     "output_type": "display_data"
    }
   ],
   "source": [
    "import matplotlib.pyplot as plt\n",
    "import pylab\n",
    "from pylab import *\n",
    "\n",
    "font = {'family': 'normal',\n",
    "        'weight': 'normal',\n",
    "        'size': 20}\n",
    "\n",
    "plt.figure(figsize=(10, 6))\n",
    "\n",
    "matplotlib.rc('font', **font)\n",
    "        \n",
    "err_sv_avg, = plt.plot(N_list, [err_sv_avg_dict[N] for N in N_list], \"g-s\", linewidth=2.5)\n",
    "err_wc_1_avg, = plt.plot(N_list, [err_wc_1_avg_dict[N] for N in N_list], \"b-o\", linewidth=2.5)\n",
    "err_wc_2_avg, = plt.plot(N_list, [err_wc_2_avg_dict[N] for N in N_list], \"m-^\", linewidth=2.5)\n",
    "\n",
    "plt.legend([err_sv_avg, err_wc_1_avg, err_wc_2_avg], [r\"$\\hat \\eta = \\eta^{\\mathrm{sv}}$\", \\\n",
    "                                                      r\"$\\hat \\eta = \\eta^{\\mathrm{wc}}$\", \\\n",
    "                                                      r\"$\\hat \\eta = \\bar \\eta^{\\mathrm{wc}}$\"])\n",
    "plt.xlabel(\"$N$\")\n",
    "plt.ylabel(\"$d( {\\hat \\eta ,\\eta^{*} ;N} )$\")\n",
    "# plt.title('Threshold ($\\eta$) versus Number of samples ($n$)')\n",
    "pylab.xlim(np.amin(N_list) - 0.1, np.amax(N_list) + 0.1)\n",
    "plt.xticks(N_list)\n",
    "pylab.ylim(-0.005, 0.2)\n",
    "\n",
    "savefig(dir_1 + 'err_comp_mb.eps')\n",
    "\n",
    "plt.show()"
   ]
  },
  {
   "cell_type": "code",
   "execution_count": null,
   "metadata": {
    "collapsed": true
   },
   "outputs": [],
   "source": []
  }
 ],
 "metadata": {
  "anaconda-cloud": {},
  "kernelspec": {
   "display_name": "Python [conda root]",
   "language": "python",
   "name": "conda-root-py"
  },
  "language_info": {
   "codemirror_mode": {
    "name": "ipython",
    "version": 2
   },
   "file_extension": ".py",
   "mimetype": "text/x-python",
   "name": "python",
   "nbconvert_exporter": "python",
   "pygments_lexer": "ipython2",
   "version": "2.7.12"
  }
 },
 "nbformat": 4,
 "nbformat_minor": 0
}
